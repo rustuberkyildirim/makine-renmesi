{
 "cells": [
  {
   "cell_type": "code",
   "execution_count": 295,
   "id": "63917d6b",
   "metadata": {},
   "outputs": [],
   "source": [
    "import pandas as pd\n",
    "df=pd.read_csv(\"obesity_data.csv\")"
   ]
  },
  {
   "cell_type": "code",
   "execution_count": 296,
   "id": "2bf81e13",
   "metadata": {},
   "outputs": [
    {
     "name": "stdout",
     "output_type": "stream",
     "text": [
      "     Age  Gender      Height     Weight        BMI  PhysicalActivityLevel  \\\n",
      "0     56    Male  173.575262  71.982051  23.891783                      4   \n",
      "1     69    Male  164.127306  89.959256  33.395209                      2   \n",
      "2     46  Female  168.072202  72.930629  25.817737                      4   \n",
      "3     32    Male  168.459633  84.886912  29.912247                      3   \n",
      "4     60    Male  183.568568  69.038945  20.487903                      3   \n",
      "..   ...     ...         ...        ...        ...                    ...   \n",
      "995   18    Male  155.588674  64.103182  26.480345                      4   \n",
      "996   35  Female  165.076490  97.639771  35.830783                      1   \n",
      "997   49  Female  156.570956  78.804284  32.146036                      1   \n",
      "998   64    Male  164.192222  57.978115  21.505965                      4   \n",
      "999   66  Female  178.537130  74.962164  23.517168                      1   \n",
      "\n",
      "    ObesityCategory  \n",
      "0     Normal weight  \n",
      "1             Obese  \n",
      "2        Overweight  \n",
      "3        Overweight  \n",
      "4     Normal weight  \n",
      "..              ...  \n",
      "995      Overweight  \n",
      "996           Obese  \n",
      "997           Obese  \n",
      "998   Normal weight  \n",
      "999   Normal weight  \n",
      "\n",
      "[1000 rows x 7 columns]\n"
     ]
    }
   ],
   "source": [
    "print(df)"
   ]
  },
  {
   "cell_type": "code",
   "execution_count": 297,
   "id": "85f072b4",
   "metadata": {},
   "outputs": [
    {
     "data": {
      "text/html": [
       "<div>\n",
       "<style scoped>\n",
       "    .dataframe tbody tr th:only-of-type {\n",
       "        vertical-align: middle;\n",
       "    }\n",
       "\n",
       "    .dataframe tbody tr th {\n",
       "        vertical-align: top;\n",
       "    }\n",
       "\n",
       "    .dataframe thead th {\n",
       "        text-align: right;\n",
       "    }\n",
       "</style>\n",
       "<table border=\"1\" class=\"dataframe\">\n",
       "  <thead>\n",
       "    <tr style=\"text-align: right;\">\n",
       "      <th></th>\n",
       "      <th>Age</th>\n",
       "      <th>Gender</th>\n",
       "      <th>Height</th>\n",
       "      <th>Weight</th>\n",
       "      <th>BMI</th>\n",
       "      <th>PhysicalActivityLevel</th>\n",
       "      <th>ObesityCategory</th>\n",
       "    </tr>\n",
       "  </thead>\n",
       "  <tbody>\n",
       "    <tr>\n",
       "      <th>0</th>\n",
       "      <td>56</td>\n",
       "      <td>Male</td>\n",
       "      <td>173.575262</td>\n",
       "      <td>71.982051</td>\n",
       "      <td>23.891783</td>\n",
       "      <td>4</td>\n",
       "      <td>Normal weight</td>\n",
       "    </tr>\n",
       "    <tr>\n",
       "      <th>1</th>\n",
       "      <td>69</td>\n",
       "      <td>Male</td>\n",
       "      <td>164.127306</td>\n",
       "      <td>89.959256</td>\n",
       "      <td>33.395209</td>\n",
       "      <td>2</td>\n",
       "      <td>Obese</td>\n",
       "    </tr>\n",
       "    <tr>\n",
       "      <th>2</th>\n",
       "      <td>46</td>\n",
       "      <td>Female</td>\n",
       "      <td>168.072202</td>\n",
       "      <td>72.930629</td>\n",
       "      <td>25.817737</td>\n",
       "      <td>4</td>\n",
       "      <td>Overweight</td>\n",
       "    </tr>\n",
       "    <tr>\n",
       "      <th>3</th>\n",
       "      <td>32</td>\n",
       "      <td>Male</td>\n",
       "      <td>168.459633</td>\n",
       "      <td>84.886912</td>\n",
       "      <td>29.912247</td>\n",
       "      <td>3</td>\n",
       "      <td>Overweight</td>\n",
       "    </tr>\n",
       "    <tr>\n",
       "      <th>4</th>\n",
       "      <td>60</td>\n",
       "      <td>Male</td>\n",
       "      <td>183.568568</td>\n",
       "      <td>69.038945</td>\n",
       "      <td>20.487903</td>\n",
       "      <td>3</td>\n",
       "      <td>Normal weight</td>\n",
       "    </tr>\n",
       "  </tbody>\n",
       "</table>\n",
       "</div>"
      ],
      "text/plain": [
       "   Age  Gender      Height     Weight        BMI  PhysicalActivityLevel  \\\n",
       "0   56    Male  173.575262  71.982051  23.891783                      4   \n",
       "1   69    Male  164.127306  89.959256  33.395209                      2   \n",
       "2   46  Female  168.072202  72.930629  25.817737                      4   \n",
       "3   32    Male  168.459633  84.886912  29.912247                      3   \n",
       "4   60    Male  183.568568  69.038945  20.487903                      3   \n",
       "\n",
       "  ObesityCategory  \n",
       "0   Normal weight  \n",
       "1           Obese  \n",
       "2      Overweight  \n",
       "3      Overweight  \n",
       "4   Normal weight  "
      ]
     },
     "execution_count": 297,
     "metadata": {},
     "output_type": "execute_result"
    }
   ],
   "source": [
    "df.head()"
   ]
  },
  {
   "cell_type": "code",
   "execution_count": 298,
   "id": "8dd3cfbc",
   "metadata": {},
   "outputs": [
    {
     "data": {
      "text/html": [
       "<div>\n",
       "<style scoped>\n",
       "    .dataframe tbody tr th:only-of-type {\n",
       "        vertical-align: middle;\n",
       "    }\n",
       "\n",
       "    .dataframe tbody tr th {\n",
       "        vertical-align: top;\n",
       "    }\n",
       "\n",
       "    .dataframe thead th {\n",
       "        text-align: right;\n",
       "    }\n",
       "</style>\n",
       "<table border=\"1\" class=\"dataframe\">\n",
       "  <thead>\n",
       "    <tr style=\"text-align: right;\">\n",
       "      <th></th>\n",
       "      <th>Age</th>\n",
       "      <th>Height</th>\n",
       "      <th>Weight</th>\n",
       "      <th>BMI</th>\n",
       "      <th>PhysicalActivityLevel</th>\n",
       "    </tr>\n",
       "  </thead>\n",
       "  <tbody>\n",
       "    <tr>\n",
       "      <th>count</th>\n",
       "      <td>1000.000000</td>\n",
       "      <td>1000.000000</td>\n",
       "      <td>1000.000000</td>\n",
       "      <td>1000.000000</td>\n",
       "      <td>1000.000000</td>\n",
       "    </tr>\n",
       "    <tr>\n",
       "      <th>mean</th>\n",
       "      <td>49.857000</td>\n",
       "      <td>170.052417</td>\n",
       "      <td>71.205769</td>\n",
       "      <td>24.888317</td>\n",
       "      <td>2.534000</td>\n",
       "    </tr>\n",
       "    <tr>\n",
       "      <th>std</th>\n",
       "      <td>18.114267</td>\n",
       "      <td>10.309971</td>\n",
       "      <td>15.509849</td>\n",
       "      <td>6.193912</td>\n",
       "      <td>1.116284</td>\n",
       "    </tr>\n",
       "    <tr>\n",
       "      <th>min</th>\n",
       "      <td>18.000000</td>\n",
       "      <td>136.115719</td>\n",
       "      <td>26.065730</td>\n",
       "      <td>8.470572</td>\n",
       "      <td>1.000000</td>\n",
       "    </tr>\n",
       "    <tr>\n",
       "      <th>25%</th>\n",
       "      <td>35.000000</td>\n",
       "      <td>163.514205</td>\n",
       "      <td>61.129629</td>\n",
       "      <td>20.918068</td>\n",
       "      <td>2.000000</td>\n",
       "    </tr>\n",
       "    <tr>\n",
       "      <th>50%</th>\n",
       "      <td>50.000000</td>\n",
       "      <td>169.801665</td>\n",
       "      <td>71.929072</td>\n",
       "      <td>24.698647</td>\n",
       "      <td>3.000000</td>\n",
       "    </tr>\n",
       "    <tr>\n",
       "      <th>75%</th>\n",
       "      <td>66.000000</td>\n",
       "      <td>177.353596</td>\n",
       "      <td>81.133746</td>\n",
       "      <td>28.732132</td>\n",
       "      <td>4.000000</td>\n",
       "    </tr>\n",
       "    <tr>\n",
       "      <th>max</th>\n",
       "      <td>79.000000</td>\n",
       "      <td>201.419670</td>\n",
       "      <td>118.907366</td>\n",
       "      <td>50.791898</td>\n",
       "      <td>4.000000</td>\n",
       "    </tr>\n",
       "  </tbody>\n",
       "</table>\n",
       "</div>"
      ],
      "text/plain": [
       "               Age       Height       Weight          BMI  \\\n",
       "count  1000.000000  1000.000000  1000.000000  1000.000000   \n",
       "mean     49.857000   170.052417    71.205769    24.888317   \n",
       "std      18.114267    10.309971    15.509849     6.193912   \n",
       "min      18.000000   136.115719    26.065730     8.470572   \n",
       "25%      35.000000   163.514205    61.129629    20.918068   \n",
       "50%      50.000000   169.801665    71.929072    24.698647   \n",
       "75%      66.000000   177.353596    81.133746    28.732132   \n",
       "max      79.000000   201.419670   118.907366    50.791898   \n",
       "\n",
       "       PhysicalActivityLevel  \n",
       "count            1000.000000  \n",
       "mean                2.534000  \n",
       "std                 1.116284  \n",
       "min                 1.000000  \n",
       "25%                 2.000000  \n",
       "50%                 3.000000  \n",
       "75%                 4.000000  \n",
       "max                 4.000000  "
      ]
     },
     "execution_count": 298,
     "metadata": {},
     "output_type": "execute_result"
    }
   ],
   "source": [
    "df.describe()"
   ]
  },
  {
   "cell_type": "code",
   "execution_count": 299,
   "id": "50f5dab6",
   "metadata": {},
   "outputs": [
    {
     "name": "stdout",
     "output_type": "stream",
     "text": [
      "<class 'pandas.core.frame.DataFrame'>\n",
      "RangeIndex: 1000 entries, 0 to 999\n",
      "Data columns (total 7 columns):\n",
      " #   Column                 Non-Null Count  Dtype  \n",
      "---  ------                 --------------  -----  \n",
      " 0   Age                    1000 non-null   int64  \n",
      " 1   Gender                 1000 non-null   object \n",
      " 2   Height                 1000 non-null   float64\n",
      " 3   Weight                 1000 non-null   float64\n",
      " 4   BMI                    1000 non-null   float64\n",
      " 5   PhysicalActivityLevel  1000 non-null   int64  \n",
      " 6   ObesityCategory        1000 non-null   object \n",
      "dtypes: float64(3), int64(2), object(2)\n",
      "memory usage: 54.8+ KB\n"
     ]
    }
   ],
   "source": [
    "df.info()"
   ]
  },
  {
   "cell_type": "markdown",
   "id": "431b6efc",
   "metadata": {},
   "source": [
    "hatalı (nan gibi) değerler yok o yüzden kayıp verilerin tespiti ve dönüşümünü atlayıp veri tipi dönüşümüne geçiyorum"
   ]
  },
  {
   "cell_type": "code",
   "execution_count": 300,
   "id": "41656c58",
   "metadata": {},
   "outputs": [
    {
     "name": "stdout",
     "output_type": "stream",
     "text": [
      "Age                      0\n",
      "Gender                   0\n",
      "Height                   0\n",
      "Weight                   0\n",
      "BMI                      0\n",
      "PhysicalActivityLevel    0\n",
      "ObesityCategory          0\n",
      "dtype: int64\n"
     ]
    }
   ],
   "source": [
    "#eğer hatalı veriler olsaydı:\n",
    "print(df.isna().sum())# hatalı değerlerin oluduğu sütunları kontrol ediyorum"
   ]
  },
  {
   "cell_type": "markdown",
   "id": "9da58dc2",
   "metadata": {},
   "source": [
    "df['sütun_adı'] = df['sütun_adı'].fillna(df['sütun_adı'].mean())\n",
    "sonuç değerleri bozulmasın diye hatalı değerleri ortalama olarak doldururdum veya direkt silerdim bu csv için"
   ]
  },
  {
   "cell_type": "code",
   "execution_count": 302,
   "id": "482cc3da",
   "metadata": {},
   "outputs": [
    {
     "name": "stdout",
     "output_type": "stream",
     "text": [
      "Age                        int64\n",
      "Gender                    object\n",
      "Height                   float64\n",
      "Weight                   float64\n",
      "BMI                      float64\n",
      "PhysicalActivityLevel      int64\n",
      "ObesityCategory           object\n",
      "dtype: object\n"
     ]
    }
   ],
   "source": [
    "print(df.dtypes) # veri tiplerini kontrol ediyorum"
   ]
  },
  {
   "cell_type": "markdown",
   "id": "2c41f3ab",
   "metadata": {},
   "source": [
    "burada gender sütunu kategorik yapmam gerektiğini anlıyorum\n",
    " donusum={\"ODA_NO\":int,\n",
    "        \"DEP_ADI\":str,\n",
    "        \"EK_TEDAVI\":str,\n",
    "        \"U_TEDAVI\":int,\n",
    "       \"C_SAYISI\":int,\n",
    "        \"ALAN\":int,\n",
    "        \"FIYAT\":int}\n",
    "\n",
    "df=df.astype(donusum)\n",
    "print(df.dtypes) başka değiştirmem gereken bir tip olsaydı bu kodu kullanarak değiştirirdim "
   ]
  },
  {
   "cell_type": "code",
   "execution_count": 304,
   "id": "109116b0",
   "metadata": {},
   "outputs": [
    {
     "name": "stdout",
     "output_type": "stream",
     "text": [
      "     Age      Height     Weight        BMI  PhysicalActivityLevel  \\\n",
      "0     56  173.575262  71.982051  23.891783                      4   \n",
      "1     69  164.127306  89.959256  33.395209                      2   \n",
      "2     46  168.072202  72.930629  25.817737                      4   \n",
      "3     32  168.459633  84.886912  29.912247                      3   \n",
      "4     60  183.568568  69.038945  20.487903                      3   \n",
      "..   ...         ...        ...        ...                    ...   \n",
      "995   18  155.588674  64.103182  26.480345                      4   \n",
      "996   35  165.076490  97.639771  35.830783                      1   \n",
      "997   49  156.570956  78.804284  32.146036                      1   \n",
      "998   64  164.192222  57.978115  21.505965                      4   \n",
      "999   66  178.537130  74.962164  23.517168                      1   \n",
      "\n",
      "    ObesityCategory  Gender_Female  Gender_Male  \n",
      "0     Normal weight          False         True  \n",
      "1             Obese          False         True  \n",
      "2        Overweight           True        False  \n",
      "3        Overweight          False         True  \n",
      "4     Normal weight          False         True  \n",
      "..              ...            ...          ...  \n",
      "995      Overweight          False         True  \n",
      "996           Obese           True        False  \n",
      "997           Obese           True        False  \n",
      "998   Normal weight          False         True  \n",
      "999   Normal weight           True        False  \n",
      "\n",
      "[1000 rows x 8 columns]\n"
     ]
    }
   ],
   "source": [
    "df = pd.get_dummies(df, columns=[\"Gender\"]) #kategorik yapıyorum\n",
    "print(df)"
   ]
  },
  {
   "cell_type": "code",
   "execution_count": 305,
   "id": "03243611",
   "metadata": {},
   "outputs": [
    {
     "name": "stdout",
     "output_type": "stream",
     "text": [
      "0      False\n",
      "1      False\n",
      "2      False\n",
      "3      False\n",
      "4      False\n",
      "       ...  \n",
      "995    False\n",
      "996    False\n",
      "997    False\n",
      "998    False\n",
      "999    False\n",
      "Length: 1000, dtype: bool\n"
     ]
    }
   ],
   "source": [
    "print(df.duplicated())  #tekrarlanan veri var mı diye kontrol ediyorum"
   ]
  },
  {
   "cell_type": "code",
   "execution_count": 306,
   "id": "243e7ae9",
   "metadata": {},
   "outputs": [
    {
     "name": "stdout",
     "output_type": "stream",
     "text": [
      "Empty DataFrame\n",
      "Columns: [Age, Height, Weight, BMI, PhysicalActivityLevel, ObesityCategory, Gender_Female, Gender_Male]\n",
      "Index: []\n"
     ]
    }
   ],
   "source": [
    "print(df[df.duplicated()])"
   ]
  },
  {
   "cell_type": "markdown",
   "id": "103236d0",
   "metadata": {},
   "source": [
    "tekrarlayan verilerin varlığını kontrol ettikten sonra aşırı veri var mı yok mu ortalama,\n",
    "ortanca ,standart sapma değerlerini kullanarak kontrol ediyorum"
   ]
  },
  {
   "cell_type": "code",
   "execution_count": 307,
   "id": "2fb6c149",
   "metadata": {},
   "outputs": [
    {
     "name": "stdout",
     "output_type": "stream",
     "text": [
      "170.05241692306717\n",
      "10.309970795149903\n",
      "169.80166537248084\n"
     ]
    }
   ],
   "source": [
    "import numpy as np\n",
    "\n",
    "print(df[\"Height\"].mean())\n",
    "print(df[\"Height\"].std())\n",
    "print(np.median(df.Height))"
   ]
  },
  {
   "cell_type": "code",
   "execution_count": 308,
   "id": "23f2b374",
   "metadata": {},
   "outputs": [
    {
     "name": "stdout",
     "output_type": "stream",
     "text": [
      "71.20576903878789\n",
      "15.509849315947378\n",
      "71.9290717998748\n"
     ]
    }
   ],
   "source": [
    "print(df[\"Weight\"].mean())\n",
    "print(df[\"Weight\"].std())\n",
    "print(np.median(df.Weight))"
   ]
  },
  {
   "cell_type": "code",
   "execution_count": 309,
   "id": "179f5a86",
   "metadata": {},
   "outputs": [
    {
     "name": "stdout",
     "output_type": "stream",
     "text": [
      "24.888316768452263\n",
      "6.19391244257365\n",
      "24.69864656152483\n"
     ]
    }
   ],
   "source": [
    "print(df[\"BMI\"].mean())\n",
    "print(df[\"BMI\"].std())\n",
    "print(np.median(df.BMI))"
   ]
  },
  {
   "cell_type": "code",
   "execution_count": 310,
   "id": "b8385e70",
   "metadata": {},
   "outputs": [
    {
     "name": "stdout",
     "output_type": "stream",
     "text": [
      "49.857\n",
      "18.114267240981007\n",
      "50.0\n"
     ]
    }
   ],
   "source": [
    "print(df[\"Age\"].mean())\n",
    "print(df[\"Age\"].std())\n",
    "print(np.median(df.Age))"
   ]
  },
  {
   "cell_type": "markdown",
   "id": "043d1ff7",
   "metadata": {},
   "source": [
    "değerlerin normal olduğunu görüyorum ve normalizasyona geçiyorum"
   ]
  },
  {
   "cell_type": "code",
   "execution_count": 311,
   "id": "878b1a38",
   "metadata": {},
   "outputs": [
    {
     "name": "stdout",
     "output_type": "stream",
     "text": [
      "       Height    Weight       BMI\n",
      "0    0.855690  0.329162  0.079924\n",
      "1    0.806724  0.422333  0.129177\n",
      "2    0.827170  0.334078  0.089905\n",
      "3    0.829178  0.396044  0.111126\n",
      "4    0.907483  0.313909  0.062282\n",
      "..        ...       ...       ...\n",
      "995  0.762471  0.288328  0.093340\n",
      "996  0.811644  0.462138  0.141800\n",
      "997  0.767562  0.364520  0.122703\n",
      "998  0.807061  0.256583  0.067559\n",
      "999  0.881406  0.344607  0.077982\n",
      "\n",
      "[1000 rows x 3 columns]\n"
     ]
    }
   ],
   "source": [
    "dfScaler = df.loc[:, \"Height\":\"BMI\"]\n",
    "x = (dfScaler - np.min(dfScaler)) / (np.max(dfScaler) - np.min(dfScaler))\n",
    "print(x)\n"
   ]
  },
  {
   "cell_type": "markdown",
   "id": "379c5588",
   "metadata": {},
   "source": [
    "regressiona geçiyoruz"
   ]
  },
  {
   "cell_type": "code",
   "execution_count": 313,
   "id": "48814ff1",
   "metadata": {},
   "outputs": [
    {
     "name": "stdout",
     "output_type": "stream",
     "text": [
      "          Age    Height    Weight       BMI  PhysicalActivityLevel\n",
      "0    0.339295  0.341864  0.050076  0.160970               1.313943\n",
      "1    1.057320  0.574985  1.209739  1.374115               0.478612\n",
      "2    0.213033  0.192164  0.111266  0.150129               1.313943\n",
      "3    0.986291  0.154567  0.882535  0.811514               0.417665\n",
      "4    0.560226  1.311635  0.139776  0.710797               0.417665\n",
      "..        ...       ...       ...       ...                    ...\n",
      "995  1.759549  1.403591  0.458170  0.257160               1.313943\n",
      "996  0.820593  0.482874  1.705189  1.767533               1.374890\n",
      "997  0.047334  1.308268  0.490161  1.172337               1.374890\n",
      "998  0.781156  0.568685  0.853282  0.546350               1.313943\n",
      "999  0.891622  0.823374  0.242315  0.221481               1.374890\n",
      "\n",
      "[1000 rows x 5 columns]\n"
     ]
    }
   ],
   "source": [
    "from sklearn.linear_model import LinearRegression\n",
    "from sklearn.tree import DecisionTreeRegressor\n",
    "from sklearn.ensemble import RandomForestRegressor\n",
    "from sklearn.preprocessing import PolynomialFeatures\n",
    "from sklearn.metrics import r2_score,mean_absolute_percentage_error,mean_absolute_error,mean_squared_error\n",
    "from scipy import stats\n",
    "\n",
    "df_numeric = df.select_dtypes(include=[np.number])\n",
    "z = np.abs(stats.zscore(df_numeric))\n",
    "print(z)"
   ]
  },
  {
   "cell_type": "markdown",
   "id": "9f5748a6",
   "metadata": {},
   "source": [
    "artık değerlin sonuçlarını yorumlamak için yazdırıyorum"
   ]
  },
  {
   "cell_type": "code",
   "execution_count": 281,
   "id": "820c029e",
   "metadata": {},
   "outputs": [
    {
     "name": "stdout",
     "output_type": "stream",
     "text": [
      "mlr 0.9844731184291917 0.02340883357623715\n",
      "dt 0.9781835404403378 0.025211248372821893\n",
      "rf 0.993627611180928 0.01381549200132482\n"
     ]
    }
   ],
   "source": [
    "print(\"mlr\",r2_score(y_test,mlr_pred),mean_absolute_percentage_error(y_test,mlr_pred))\n",
    "print(\"dt\",r2_score(y_test,dt_pred),mean_absolute_percentage_error(y_test,dt_pred))\n",
    "print(\"rf\",r2_score(y_test,rf_pred),mean_absolute_percentage_error(y_test,rf_pred))"
   ]
  },
  {
   "cell_type": "markdown",
   "id": "057afe92",
   "metadata": {},
   "source": [
    "değerlerin aşırıya kaçtığı satırları siliyorum ama ortalama ile de doldurabilirdim"
   ]
  },
  {
   "cell_type": "code",
   "execution_count": 314,
   "id": "16f38dfd",
   "metadata": {},
   "outputs": [
    {
     "name": "stdout",
     "output_type": "stream",
     "text": [
      "(array([134, 134, 311, 368, 529, 529, 650, 994], dtype=int64), array([2, 3, 3, 1, 1, 3, 2, 3], dtype=int64))\n"
     ]
    }
   ],
   "source": [
    "print(np.where (z>3))"
   ]
  },
  {
   "cell_type": "code",
   "execution_count": 315,
   "id": "770cff7e",
   "metadata": {},
   "outputs": [
    {
     "name": "stdout",
     "output_type": "stream",
     "text": [
      "Index([134, 134, 311, 368, 529, 529, 650, 994], dtype='int64')\n"
     ]
    }
   ],
   "source": [
    "selected=df.iloc[np.where (z>3)[0]].index\n",
    "print(selected)"
   ]
  },
  {
   "cell_type": "code",
   "execution_count": 316,
   "id": "62983425",
   "metadata": {},
   "outputs": [],
   "source": [
    "dfN=df.drop(selected,axis=0,inplace=True)"
   ]
  },
  {
   "cell_type": "code",
   "execution_count": 317,
   "id": "6c45a6cc",
   "metadata": {},
   "outputs": [
    {
     "name": "stdout",
     "output_type": "stream",
     "text": [
      "(994, 8)\n"
     ]
    }
   ],
   "source": [
    "dfN=df\n",
    "print(dfN.shape) "
   ]
  },
  {
   "cell_type": "code",
   "execution_count": 318,
   "id": "6c2c4779",
   "metadata": {},
   "outputs": [
    {
     "name": "stdout",
     "output_type": "stream",
     "text": [
      "PLR R2: 0.9999970449257978\n",
      "PLR MAPE: 0.00031849673062316227\n",
      "PLR MAE: 0.006946851961478489\n"
     ]
    }
   ],
   "source": [
    "poly = PolynomialFeatures(degree=3)\n",
    "X_poly = poly.fit_transform(X_train)\n",
    "plr_model = LinearRegression()\n",
    "plr_model.fit(X_poly, y_train)\n",
    "plr_pred = plr_model.predict(poly.transform(X_test))\n",
    "\n",
    "print(\"PLR R2:\", r2_score(y_test, plr_pred))\n",
    "print(\"PLR MAPE:\", mean_absolute_percentage_error(y_test, plr_pred))\n",
    "print(\"PLR MAE:\", mean_absolute_error(y_test, plr_pred))"
   ]
  },
  {
   "cell_type": "code",
   "execution_count": 319,
   "id": "f08b9d85",
   "metadata": {
    "scrolled": true
   },
   "outputs": [
    {
     "name": "stdout",
     "output_type": "stream",
     "text": [
      "mlr MAE: 0.4963534794455462\n",
      "dt MAE: 0.5829799233430084\n",
      "rf MAE: 0.28866663115978586\n"
     ]
    }
   ],
   "source": [
    "print(\"mlr MAE:\", mean_absolute_error(y_test, mlr_pred))\n",
    "print(\"dt MAE:\", mean_absolute_error(y_test, dt_pred))\n",
    "print(\"rf MAE:\", mean_absolute_error(y_test, rf_pred))"
   ]
  },
  {
   "cell_type": "code",
   "execution_count": 321,
   "id": "3b93282d",
   "metadata": {},
   "outputs": [
    {
     "name": "stdout",
     "output_type": "stream",
     "text": [
      "mlr MAPE: 0.02340883357623715\n",
      "dt MAPE: 0.025211248372821893\n",
      "rf MAPE: 0.01381549200132482\n"
     ]
    }
   ],
   "source": [
    "print(\"mlr MAPE:\", mean_absolute_percentage_error(y_test, mlr_pred))\n",
    "print(\"dt MAPE:\", mean_absolute_percentage_error(y_test, dt_pred))\n",
    "print(\"rf MAPE:\", mean_absolute_percentage_error(y_test, rf_pred))"
   ]
  },
  {
   "cell_type": "code",
   "execution_count": 322,
   "id": "c929284b",
   "metadata": {},
   "outputs": [
    {
     "name": "stdout",
     "output_type": "stream",
     "text": [
      "mlr MSE: 0.5516420684716263\n",
      "dt MSE: 0.7750994186009699\n",
      "rf MSE: 0.22639946941228237\n"
     ]
    }
   ],
   "source": [
    "print(\"mlr MSE:\", mean_squared_error(y_test, mlr_pred))\n",
    "print(\"dt MSE:\", mean_squared_error(y_test, dt_pred))\n",
    "print(\"rf MSE:\", mean_squared_error(y_test, rf_pred))"
   ]
  },
  {
   "cell_type": "code",
   "execution_count": 323,
   "id": "6a8f7725",
   "metadata": {},
   "outputs": [
    {
     "data": {
      "image/png": "[encoded data removed]",
      "text/plain": [
       "<Figure size 640x480 with 1 Axes>"
      ]
     },
     "metadata": {},
     "output_type": "display_data"
    }
   ],
   "source": [
    "import matplotlib.pyplot as plt\n",
    "\n",
    "plt.hist(y_test - mlr_pred, bins=30, alpha=0.5, label=\"MLR Error\")\n",
    "plt.hist(y_test - dt_pred, bins=30, alpha=0.5, label=\"DT Error\")\n",
    "plt.hist(y_test - rf_pred, bins=30, alpha=0.5, label=\"RF Error\")\n",
    "plt.legend()\n",
    "plt.title(\"Hata Dağılımı\")\n",
    "plt.show()\n"
   ]
  },
  {
   "cell_type": "markdown",
   "id": "b6f0a5de",
   "metadata": {},
   "source": [
    "Genel Yorum:\n",
    "En iyi performans, Polynomial Regression olduğunu düşünüyorum özellikle düşük MAPE ve yüksek R2 değerleri var ama Random Forest daha düşük hata oranları olduğundan onu da seçmek kötü bir fikir değil."
   ]
  },
  {
   "cell_type": "code",
   "execution_count": null,
   "id": "6bdffcf4",
   "metadata": {},
   "outputs": [],
   "source": []
  }
 ],
 "metadata": {
  "kernelspec": {
   "display_name": "Python 3 (ipykernel)",
   "language": "python",
   "name": "python3"
  },
  "language_info": {
   "codemirror_mode": {
    "name": "ipython",
    "version": 3
   },
   "file_extension": ".py",
   "mimetype": "text/x-python",
   "name": "python",
   "nbconvert_exporter": "python",
   "pygments_lexer": "ipython3",
   "version": "3.11.5"
  }
 },
 "nbformat": 4,
 "nbformat_minor": 5
}
